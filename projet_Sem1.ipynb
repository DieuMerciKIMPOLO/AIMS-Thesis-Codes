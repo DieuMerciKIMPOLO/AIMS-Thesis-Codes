{
  "nbformat": 4,
  "nbformat_minor": 0,
  "metadata": {
    "colab": {
      "name": "projet_Sem1.ipynb",
      "provenance": [],
      "collapsed_sections": [],
      "include_colab_link": true
    },
    "kernelspec": {
      "name": "python3",
      "display_name": "Python 3"
    }
  },
  "cells": [
    {
      "cell_type": "markdown",
      "metadata": {
        "id": "view-in-github",
        "colab_type": "text"
      },
      "source": [
        "<a href=\"https://colab.research.google.com/github/DieuMerciKIMPOLO/AIMS-Thesis-Codes/blob/master/projet_Sem1.ipynb\" target=\"_parent\"><img src=\"https://colab.research.google.com/assets/colab-badge.svg\" alt=\"Open In Colab\"/></a>"
      ]
    },
    {
      "cell_type": "code",
      "metadata": {
        "id": "O751LFd4e8_j",
        "colab": {
          "base_uri": "https://localhost:8080/"
        },
        "outputId": "2d234eab-0075-44ee-bc57-65aa98b7ff21"
      },
      "source": [
        "pip install glmnet"
      ],
      "execution_count": 1,
      "outputs": [
        {
          "output_type": "stream",
          "text": [
            "Collecting glmnet\n",
            "\u001b[?25l  Downloading https://files.pythonhosted.org/packages/2f/6b/b85e409f5084b4f436c6518d4c33195ac4ca03804b79100dd9f8e2a1304d/glmnet-2.2.1-cp36-cp36m-manylinux2010_x86_64.whl (1.6MB)\n",
            "\u001b[K     |████████████████████████████████| 1.6MB 5.4MB/s \n",
            "\u001b[?25hRequirement already satisfied: joblib>=0.14.1 in /usr/local/lib/python3.6/dist-packages (from glmnet) (1.0.0)\n",
            "Requirement already satisfied: scipy>=0.14.1 in /usr/local/lib/python3.6/dist-packages (from glmnet) (1.4.1)\n",
            "Requirement already satisfied: scikit-learn>=0.18.0 in /usr/local/lib/python3.6/dist-packages (from glmnet) (0.22.2.post1)\n",
            "Requirement already satisfied: numpy>=1.9.2 in /usr/local/lib/python3.6/dist-packages (from glmnet) (1.19.5)\n",
            "Installing collected packages: glmnet\n",
            "Successfully installed glmnet-2.2.1\n"
          ],
          "name": "stdout"
        }
      ]
    },
    {
      "cell_type": "code",
      "metadata": {
        "id": "XlZ0ONNoiHMk"
      },
      "source": [
        "from numpy import array,transpose"
      ],
      "execution_count": 2,
      "outputs": []
    },
    {
      "cell_type": "code",
      "metadata": {
        "id": "ETEy6vkjeQc6"
      },
      "source": [
        "def getHierLevel(X, Y, hcObject, selection=array([\"rho-sicomore\", \"sicomore\", \"mlgl\"]),compression = \"mean\", depthCut=3,  choice=array([\"lambda.min\", \"lambda.1se\"]), mcCores=2, stab=False, stabParam={\"B\":array([100,100]), \"cutoff\":array([0.75,0.75]), \"PFER\":list([1,1])}):\r\n",
        "  pass"
      ],
      "execution_count": null,
      "outputs": []
    },
    {
      "cell_type": "code",
      "metadata": {
        "colab": {
          "base_uri": "https://localhost:8080/"
        },
        "id": "ZdZqPGoruXo1",
        "outputId": "0b023720-0ea1-4730-c86f-ac44b0aae004"
      },
      "source": [
        "a = array([[1,2],[3,8],[1,4]])\n",
        "a"
      ],
      "execution_count": 3,
      "outputs": [
        {
          "output_type": "execute_result",
          "data": {
            "text/plain": [
              "array([[1, 2],\n",
              "       [3, 8],\n",
              "       [1, 4]])"
            ]
          },
          "metadata": {
            "tags": []
          },
          "execution_count": 3
        }
      ]
    },
    {
      "cell_type": "code",
      "metadata": {
        "colab": {
          "base_uri": "https://localhost:8080/"
        },
        "id": "NeLn7RlJv2WU",
        "outputId": "9b3b2160-818e-4266-8c77-8518d86f6f69"
      },
      "source": [
        "res = all(isinstance(ele, list) for ele in a.tolist()) \n",
        "res\n",
        "if res == True:\n",
        "  print(\"go\")"
      ],
      "execution_count": 4,
      "outputs": [
        {
          "output_type": "stream",
          "text": [
            "go\n"
          ],
          "name": "stdout"
        }
      ]
    },
    {
      "cell_type": "code",
      "metadata": {
        "colab": {
          "base_uri": "https://localhost:8080/"
        },
        "id": "umxS2ZBn-fb-",
        "outputId": "78b20b85-107c-4453-e6d9-cb2a9b4945d8"
      },
      "source": [
        "X = array([[-0.5649586,-0.6749623,0.1821025,0.7699819,1.249502494],\n",
        "    [0.9861516,-0.5528317,-0.5383871,-0.6417368,-1.538247113],\n",
        "    [0.7294214,1.6999851,-1.4359081, -0.8900850,0.012940624],\n",
        "    [0.2948406,-0.5806034, 0.9638031,1.3588899,0.268932442],\n",
        "    [-1.4454550,0.1084123,0.8283897,-0.5970501,0.006871553],\n",
        "    ])\n",
        "X[0,:]\n",
        "\n",
        "## [-0.5649586,-0.6749623,0.1821025,0.7699819,1.249502494]\n",
        "## [2,] [0.9861516,-0.5528317,-0.5383871,-0.6417368,-1.538247113]\n",
        "## [3,]  [0.7294214,1.6999851,-1.4359081, -0.8900850,0.012940624]\n",
        "## [4,]  [0.2948406,-0.5806034, 0.9638031,1.3588899,0.268932442]\n",
        "## [5,] [-1.4454550,0.1084123,0.8283897,-0.5970501,0.006871553]"
      ],
      "execution_count": 5,
      "outputs": [
        {
          "output_type": "execute_result",
          "data": {
            "text/plain": [
              "array([-0.5649586 , -0.6749623 ,  0.1821025 ,  0.7699819 ,  1.24950249])"
            ]
          },
          "metadata": {
            "tags": []
          },
          "execution_count": 5
        }
      ]
    },
    {
      "cell_type": "code",
      "metadata": {
        "id": "hC2I03n0-kkX"
      },
      "source": [
        "from scipy.cluster.hierarchy import dendrogram, linkage,maxdists, cut_tree\n",
        "from matplotlib import pyplot as plt\n",
        "import numpy as np\n",
        "\n",
        "from sklearn.cluster import AgglomerativeClustering, linkage_tree\n",
        "from sklearn.cluster import  ward_tree \n",
        "\n",
        "linked = linkage(transpose(X), 'single')\n",
        "labelList = range(1, 6)\n",
        "\n",
        "model = AgglomerativeClustering(distance_threshold=0, n_clusters=None)\n",
        "model = model.fit(transpose(X))\n",
        "#dendrogram(agg_model, orientation='top',labels=labelList, distance_sort='descending',show_leaf_counts=True)\n",
        "#dendrogram(agg_model, truncate_mode='level', p=3)\n",
        "#**kwargs\n",
        "\n",
        "def plot_dendrogram(model, **kwargs):\n",
        "    # Create linkage matrix and then plot the dendrogram\n",
        "\n",
        "    # create the counts of samples under each node\n",
        "    counts = np.zeros(model.children_.shape[0])\n",
        "    n_samples = len(model.labels_)\n",
        "    for i, merge in enumerate(model.children_):\n",
        "        current_count = 0\n",
        "        for child_idx in merge:\n",
        "            if child_idx < n_samples:\n",
        "                current_count += 1  # leaf node\n",
        "            else:\n",
        "                current_count += counts[child_idx - n_samples]\n",
        "        counts[i] = current_count\n",
        "\n",
        "    linkage_matrix = np.column_stack([model.children_, model.distances_,\n",
        "                                      counts]).astype(float)\n",
        "\n",
        "    # Plot the corresponding dendrogram\n",
        "    dendrogram(linkage_matrix, **kwargs)\n",
        "\n",
        "plt.title('Hierarchical Clustering Dendrogram')\n",
        "# plot the top three levels of the dendrogram\n",
        "plot_dendrogram(model, truncate_mode='level', p=3)\n",
        "plt.xlabel(\"Number of points in node (or index of point if no parenthesis).\")\n",
        "plt.show()\n",
        "linkageTree=linkage_tree()\n",
        "#print(model.children_)\n",
        "#plt.show()\n",
        "#print(model.distances_)\n",
        "print(model.children_)\n",
        "#print(model.get_params)\n",
        "#dir(model) #~ hc.object$height with R"
      ],
      "execution_count": null,
      "outputs": []
    },
    {
      "cell_type": "code",
      "metadata": {
        "colab": {
          "base_uri": "https://localhost:8080/",
          "height": 219
        },
        "id": "WloCTa8UWFAN",
        "outputId": "a3675da0-65c1-4835-84ff-794e963f9d35"
      },
      "source": [
        "import math  \r\n",
        "def W(selection, H):\r\n",
        "  weights=None\r\n",
        "  if(\"rho-sicomore\"==selection):\r\n",
        "    weights=[math.sqrt(1/abs(H[i]-H[i-1])) for i in range(1,len(H))] #sqrt(1/abs(diff(hc.object$height))\r\n",
        "  elif(\"sicomore\"==selection):\r\n",
        "    weights=[1 for i in range(len(H))]\r\n",
        "  elif(\"mlgl\"==selection):\r\n",
        "    weights=None\r\n",
        "  return weights\r\n",
        "#W(\"rho-sicomore\")\r\n",
        "#[2.5115199302621183, 1.1903256604248835, 1.7607117792689444]"
      ],
      "execution_count": 7,
      "outputs": [
        {
          "output_type": "error",
          "ename": "TypeError",
          "evalue": "ignored",
          "traceback": [
            "\u001b[0;31m---------------------------------------------------------------------------\u001b[0m",
            "\u001b[0;31mTypeError\u001b[0m                                 Traceback (most recent call last)",
            "\u001b[0;32m<ipython-input-7-4a2146f94565>\u001b[0m in \u001b[0;36m<module>\u001b[0;34m()\u001b[0m\n\u001b[1;32m      9\u001b[0m     \u001b[0mweights\u001b[0m\u001b[0;34m=\u001b[0m\u001b[0;32mNone\u001b[0m\u001b[0;34m\u001b[0m\u001b[0;34m\u001b[0m\u001b[0m\n\u001b[1;32m     10\u001b[0m   \u001b[0;32mreturn\u001b[0m \u001b[0mweights\u001b[0m\u001b[0;34m\u001b[0m\u001b[0;34m\u001b[0m\u001b[0m\n\u001b[0;32m---> 11\u001b[0;31m \u001b[0mW\u001b[0m\u001b[0;34m(\u001b[0m\u001b[0;34m\"rho-sicomore\"\u001b[0m\u001b[0;34m)\u001b[0m\u001b[0;34m\u001b[0m\u001b[0;34m\u001b[0m\u001b[0m\n\u001b[0m\u001b[1;32m     12\u001b[0m \u001b[0;31m#[2.5115199302621183, 1.1903256604248835, 1.7607117792689444]\u001b[0m\u001b[0;34m\u001b[0m\u001b[0;34m\u001b[0m\u001b[0;34m\u001b[0m\u001b[0m\n",
            "\u001b[0;31mTypeError\u001b[0m: W() missing 1 required positional argument: 'H'"
          ]
        }
      ]
    },
    {
      "cell_type": "code",
      "metadata": {
        "colab": {
          "base_uri": "https://localhost:8080/"
        },
        "id": "gBvZBqEP4WJ1",
        "outputId": "56019791-cc5a-4ddb-e14f-820826e77ee8"
      },
      "source": [
        "c = W(\"rho-sicomore\")+ [max(W(\"rho-sicomore\"))]\r\n",
        "vect =np.flip([i for i in range(1,X.shape[1]+1)])\r\n",
        "#print(X.shape[1])\r\n",
        "vect_1=[i+1 for i in vect]\r\n",
        "#print(vect)\r\n",
        "#print(vect_1)\r\n",
        "T=[j <= 3*X.shape[1] for j in  np.cumsum(vect_1)]\r\n",
        "#print(T)\r\n",
        "cutLevel = [vect_1[i] for i in range(len(T)) if T[i]==True ]\r\n",
        "#print(Vv)\r\n",
        "liste = a + np.flip(W(\"rho-sicomore\"))\r\n",
        "liste0 =[0]\r\n",
        "liste1 = liste.tolist()\r\n",
        "weights = liste0 + liste1\r\n",
        "weights.append(0)\r\n",
        "weights"
      ],
      "execution_count": null,
      "outputs": [
        {
          "output_type": "execute_result",
          "data": {
            "text/plain": [
              "[0, 0.7879125881885534, 1.81402530231243, 1.45135715743204, 0]"
            ]
          },
          "metadata": {
            "tags": []
          },
          "execution_count": 22
        }
      ]
    },
    {
      "cell_type": "code",
      "metadata": {
        "id": "Hols1RQzC7kU"
      },
      "source": [
        "def sicomore(X, y, weights, hcObject, compression, choice, depthCut,mcCores, stab, stabParam):\n",
        "  pass"
      ],
      "execution_count": null,
      "outputs": []
    },
    {
      "cell_type": "code",
      "metadata": {
        "id": "xd9c_TraRFaq",
        "colab": {
          "base_uri": "https://localhost:8080/"
        },
        "outputId": "d1261076-64d2-4268-b604-d314f4e1ce93"
      },
      "source": [
        "from scipy import cluster\n",
        "Z = cluster.hierarchy.ward(X)\n",
        "cutree = cluster.hierarchy.cut_tree(Z, cutLevel)\n",
        "cutTree"
      ],
      "execution_count": null,
      "outputs": [
        {
          "output_type": "execute_result",
          "data": {
            "text/plain": [
              "[6, 5, 4]"
            ]
          },
          "metadata": {
            "tags": []
          },
          "execution_count": 25
        }
      ]
    },
    {
      "cell_type": "code",
      "metadata": {
        "id": "TAokvtxg8hnH"
      },
      "source": [
        "#### SECTION AVEC SCIPY\r\n",
        "\r\n"
      ],
      "execution_count": null,
      "outputs": []
    },
    {
      "cell_type": "code",
      "metadata": {
        "id": "iTa_suHJnvCL",
        "colab": {
          "base_uri": "https://localhost:8080/",
          "height": 147
        },
        "outputId": "edaeac28-4645-4d1c-9515-09ebe1a5617b"
      },
      "source": [
        "\"\"\"\"\n",
        "getHierLevel <- function(X,\n",
        "                         y,\n",
        "                         hc.object,\n",
        "                         selection = c(\"rho-sicomore\", \"sicomore\", \"mlgl\"),\n",
        "                         compression = \"mean\",\n",
        "                         depth.cut = 3,\n",
        "                         choice=c(\"lambda.min\", \"lambda.1se\"),\n",
        "                         mc.cores=2,\n",
        "                         stab = FALSE,\n",
        "                         stab.param = list(B = c(100,100), cutoff = c(.75,.75), PFER = c(1,1))) {\n",
        "\n",
        "  ## _________________________________________________________________\n",
        "  ##\n",
        "  ## PRETREATMENT\n",
        "  ##\n",
        "  choice <- match.arg(choice)\n",
        "\n",
        "  ## forcing the matrix type for glmnet\n",
        "  if (!is.matrix(X)) X <- as.matrix(X)\n",
        "\n",
        "  if (class(hc.object) == \"chac\") class(hc.object) <- \"hclust\"\n",
        "  stopifnot(class(hc.object) == \"hclust\")\n",
        "\n",
        "  ## _________________________________________________________________\n",
        "  ##\n",
        "  ## GET THE BEST COMPRESSION LEVEL IN THE HIERARCHY\n",
        "  ##\n",
        "  weights <- switch(selection,\n",
        "                     \"rho-sicomore\" = sqrt(1/abs(diff(hc.object$height))),\n",
        "                     \"sicomore\"     = rep(1, length(hc.object$height)),\n",
        "                     \"mlgl\"         = NULL)\n",
        "  if (selection == 'mlgl')\n",
        "    out <- .MLGL(X, y, hc.object, choice)\n",
        "  else\n",
        "    out <- .sicomore(X, y, weights, hc.object, compression, choice, depth.cut,\n",
        "                     mc.cores, stab, stab.param)\n",
        "\n",
        "  ## _________________________________________________________________\n",
        "  ##\n",
        "  ## POST-TREATMENTS\n",
        "  ##\n",
        "\n",
        "  res <- new(\"sicomore-model\",\n",
        "             compression  = compression     ,\n",
        "             selection    = selection       )\n",
        "\n",
        "  if (length(out$groups) > 0) {\n",
        "    grouping   <- rep(1:length(out$groups), sapply(out$groups, length))\n",
        "    X.comp     <- cbind(computeCompressedDataFrame(X[, unlist(out$groups)], grouping, compression))\n",
        "    out$groups <- setNames(out$groups, NULL)\n",
        "    if(!stab) out$coefficients <- setNames(out$coefficients, paste(\"group\", 1:length(out$groups)))\n",
        "    res$group_inference <- \"lasso\"\n",
        "  } else {\n",
        "    grouping   <- cutree(hc.object, k=1+which.max(rev(diff(hc.object$height))))\n",
        "    X.comp     <- cbind(computeCompressedDataFrame(X, grouping, compression))\n",
        "    out$groups <- split(1:ncol(X), grouping)\n",
        "    res$group_inference <- \"hclust\"\n",
        "  }\n",
        "  res$groups <- out$groups\n",
        "  res$X.comp <- X.comp\n",
        "  if(!stab){\n",
        "    res$coefficients <- out$coefficients\n",
        "    res$cv.error     <- out$cv\n",
        "  }\n",
        "\n",
        "  res\n",
        "}\n",
        "\n",
        "## __________________________________________________________________\n",
        "##\n",
        "## CROSS-VALIDATED COMPRESSED LASSO ALONG THE HIERARCHY\n",
        "##\n",
        "## explore the hierarchy to find the best level of compression (cut.levels are the best)\n",
        "## The bottom of the hiearchy is discarded.... (too many variables :( )\n",
        ".sicomore <- function(X, y, weights, hc.object, compression, choice, depth.cut,\n",
        "                      mc.cores, stab, stab.param) {\n",
        "\n",
        "  cut.levels <- order(rev(c(max(weights),weights))) + 1\n",
        "  cut.levels <- cut.levels[cumsum(cut.levels) <= depth.cut*ncol(X)]\n",
        "  weights <- c(0,rev(weights),0) # Reorder the weight to have a correspondance with cut.levels\n",
        "\n",
        "  ## Build a data frame with all compressed variables from interesting cut levels\n",
        "  hierarchy <- lapply(apply(cutree(hc.object, k = cut.levels), 2, list), unlist, recursive=FALSE)\n",
        "\n",
        "  # Xcomp[,j] is a compressed variables and Xcomp.variables[[j]] is the corresponding vector of variables\n",
        "  Xcomp.variables <- unlist(parallel::mclapply(hierarchy,function(group) {\n",
        "    lapply(1:max(group), function(k){which(group==k)})\n",
        "    }, mc.cores = mc.cores), recursive=FALSE)\n",
        "  uniqueIndex <- !duplicated(Xcomp.variables)\n",
        "  Xcomp.variables <- Xcomp.variables[uniqueIndex] # Eliminate the group which are present at different level of the hierarchy\n",
        "\n",
        "  Xcomp <- do.call(cbind,lapply(Xcomp.variables, function(variables) {\n",
        "    computeCompressedDataFrameFromVariables(X, variables, compression)\n",
        "  }))\n",
        "\n",
        "  ## Adjusting the model\n",
        "  penalty.factor <- rep(weights[cut.levels],cut.levels)[uniqueIndex]\n",
        "\n",
        "  if (stab == TRUE){\n",
        "    stab.lasso <- stabs::stabsel(x = Xcomp, y = y, B = stab.param$B,\n",
        "                          cutoff = stab.param$cutoff,\n",
        "                          fitfun = stabs::glmnet.lasso, PFER = stab.param$PFER,\n",
        "                          args.fitfun = list(penalty.factor = penalty.factor),\n",
        "                          mc.cores = mc.cores, sampling.type = \"MB\")\n",
        "    selected.groups <- as.numeric(stab.lasso$selected)\n",
        "    groups <- Xcomp.variables[selected.groups]   # elements of each group of the best model\n",
        "    res <- list(groups = groups)\n",
        "  } else {\n",
        "    cv <- glmnet::cv.glmnet(Xcomp, y, penalty.factor = penalty.factor, parallel=FALSE)\n",
        "    selected.groups <- predict(cv, s=choice, type=\"nonzero\")[[1]]\n",
        "    groups <- Xcomp.variables[selected.groups]   # elements of each group of the best model\n",
        "    coefficients <- predict(cv, s=choice, type=\"coefficients\")[-1] # without intercept\n",
        "    coefficients <- coefficients[selected.groups]\n",
        "    res <- list(cv = data.frame(mean = cv$cvm, sd = cv$cvsd, lambda  = cv$lambda),\n",
        "                groups = groups, coefficients = coefficients)\n",
        "\n",
        "  }\n",
        "\n",
        "  res\n",
        "}\n",
        "\n",
        "## __________________________________________________________________\n",
        "##\n",
        "## CROSS-VALIDATED MULTILAYER GROUP-LASSO ALONG THE HIERARCHY\n",
        "##\n",
        "\n",
        ".MLGL <- function(X, y, hc.object, choice, mc.cores) {\n",
        "\n",
        "  ## Adjusting the model + cross-validation\n",
        "  fit      <- MLGL::MLGL(X, y)\n",
        "  cv.error <- MLGL::cv.MLGL(X, y)\n",
        "\n",
        "  ## Extracting the best model\n",
        "  ibest <- switch(choice,\n",
        "                  \"lambda.min\" = match(cv.error$lambda.min, fit$lambda),\n",
        "                  \"lambda.1se\" = match(cv.error$lambda.1se, fit$lambda))\n",
        "  variables <- unname(unlist(fit$var[ibest]))\n",
        "  double    <- which(duplicated(variables))\n",
        "  if (length(double) != 0){\n",
        "    variables <- variables[-double]\n",
        "    fit.beta  <- fit$beta[[ibest]][-double]\n",
        "    fit.group <- fit$group[[ibest]][-double]\n",
        "  } else {\n",
        "    fit.beta  <- fit$beta[[ibest]]\n",
        "    fit.group <- fit$group[[ibest]]\n",
        "  }\n",
        "  o <- order(variables)\n",
        "  groups       <- split(variables, fit.group)\n",
        "  coefficients <- as.numeric(Matrix::sparseVector(fit.beta,unique(variables[o]),ncol(X)))\n",
        "\n",
        "  list(cv = data.frame(mean=cv.error$cvm, sd=cv.error$cvsd, lambda=cv.error$lambda),\n",
        "              groups = groups, coefficients = coefficients)\n",
        "}\n",
        "\"\"\"\""
      ],
      "execution_count": null,
      "outputs": [
        {
          "output_type": "error",
          "ename": "SyntaxError",
          "evalue": "ignored",
          "traceback": [
            "\u001b[0;36m  File \u001b[0;32m\"<ipython-input-11-fe6e0d3f1911>\"\u001b[0;36m, line \u001b[0;32m155\u001b[0m\n\u001b[0;31m    \"\"\"\"\u001b[0m\n\u001b[0m        \n^\u001b[0m\n\u001b[0;31mSyntaxError\u001b[0m\u001b[0;31m:\u001b[0m EOL while scanning string literal\n"
          ]
        }
      ]
    }
  ]
}